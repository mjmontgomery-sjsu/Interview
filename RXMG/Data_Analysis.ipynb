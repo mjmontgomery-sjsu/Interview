{
 "cells": [
  {
   "cell_type": "code",
   "execution_count": 5,
   "metadata": {},
   "outputs": [],
   "source": [
    "import pandas as pd\n",
    "import seaborn as sns"
   ]
  },
  {
   "cell_type": "code",
   "execution_count": 7,
   "metadata": {},
   "outputs": [
    {
     "name": "stdout",
     "output_type": "stream",
     "text": [
      "     Affiliate ID1     eCPM    CTR     EPC    CLR                  Name  \\\n",
      "0         460639.0   $5.48   1.93%  $0.28   0.00%  First Access Solid B   \n",
      "1         460804.0   $4.02   1.96%  $0.21   0.00%  First Access Solid B   \n",
      "2         460639.0  $11.41   4.13%  $0.28   0.00%  First Access Solid B   \n",
      "3         460639.0   $8.23   4.56%  $0.18   0.00%  First Access Solid B   \n",
      "4         460804.0  $12.58   2.65%  $0.47   0.00%  First Access Solid B   \n",
      "..             ...      ...    ...     ...    ...                   ...   \n",
      "994            NaN      NaN    NaN     NaN    NaN                   NaN   \n",
      "995            NaN      NaN    NaN     NaN    NaN                   NaN   \n",
      "996            NaN      NaN    NaN     NaN    NaN                   NaN   \n",
      "997            NaN      NaN    NaN     NaN    NaN                   NaN   \n",
      "998            NaN      NaN    NaN     NaN    NaN                   NaN   \n",
      "\n",
      "     # Drops Click Rate  Clicks Data Provider (group)  ... Open Rate    Opens  \\\n",
      "0        1.0     10.42%   777.0                Venice  ...    18.50%   7458.0   \n",
      "1        1.0     12.10%  1240.0                Venice  ...    16.10%  10231.0   \n",
      "2        1.0     12.60%   615.0                Venice  ...    32.70%   4874.0   \n",
      "3        1.0     14.60%   659.0                Venice  ...    31.30%   4518.0   \n",
      "4        1.0     12.10%  1971.0                Venice  ...    21.90%  16314.0   \n",
      "..       ...        ...     ...                   ...  ...       ...      ...   \n",
      "994      NaN        NaN     NaN                   NaN  ...       NaN      NaN   \n",
      "995      NaN        NaN     NaN                   NaN  ...       NaN      NaN   \n",
      "996      NaN        NaN     NaN                   NaN  ...       NaN      NaN   \n",
      "997      NaN        NaN     NaN                   NaN  ...       NaN      NaN   \n",
      "998      NaN        NaN     NaN                   NaN  ...       NaN      NaN   \n",
      "\n",
      "     Operational Status1     Payout Type1 Remaining Budget   Revenue  \\\n",
      "0                   Live  1st PAGE SUBMIT              0.0  $221.00    \n",
      "1                   Live  1st PAGE SUBMIT              0.0  $255.00    \n",
      "2                   Live  1st PAGE SUBMIT              0.0  $170.00    \n",
      "3                   Live  1st PAGE SUBMIT              0.0  $119.00    \n",
      "4                   Live  1st PAGE SUBMIT              0.0  $935.00    \n",
      "..                   ...              ...              ...       ...   \n",
      "994                  NaN              NaN              NaN       NaN   \n",
      "995                  NaN              NaN              NaN       NaN   \n",
      "996                  NaN              NaN              NaN       NaN   \n",
      "997                  NaN              NaN              NaN       NaN   \n",
      "998                  NaN              NaN              NaN       NaN   \n",
      "\n",
      "     Segment1 Unnamed: 22 Unnamed: 23  Unnamed: 24  \n",
      "0         O30         NaN         NaN          NaN  \n",
      "1         O14         NaN         NaN          NaN  \n",
      "2          O1         NaN         NaN          NaN  \n",
      "3          O1         NaN         NaN          NaN  \n",
      "4         O21         NaN         NaN          NaN  \n",
      "..        ...         ...         ...          ...  \n",
      "994       NaN         NaN         NaN          NaN  \n",
      "995       NaN         NaN         NaN          NaN  \n",
      "996       NaN         NaN         NaN          NaN  \n",
      "997       NaN         NaN         NaN          NaN  \n",
      "998       NaN         NaN         NaN          NaN  \n",
      "\n",
      "[999 rows x 25 columns]\n"
     ]
    }
   ],
   "source": [
    "df_4915 = pd.read_csv(\"/Users/michaelmontgomery/Documents/Interviews/RXMG/4915.csv\")\n",
    "print(df_4915)"
   ]
  },
  {
   "cell_type": "code",
   "execution_count": null,
   "metadata": {},
   "outputs": [],
   "source": []
  }
 ],
 "metadata": {
  "kernelspec": {
   "display_name": "Python 3",
   "language": "python",
   "name": "python3"
  },
  "language_info": {
   "codemirror_mode": {
    "name": "ipython",
    "version": 3
   },
   "file_extension": ".py",
   "mimetype": "text/x-python",
   "name": "python",
   "nbconvert_exporter": "python",
   "pygments_lexer": "ipython3",
   "version": "3.7.4"
  }
 },
 "nbformat": 4,
 "nbformat_minor": 2
}
